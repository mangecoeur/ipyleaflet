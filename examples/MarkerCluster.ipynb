{
 "cells": [
  {
   "cell_type": "code",
   "execution_count": 3,
   "metadata": {},
   "outputs": [],
   "source": [
    "from ipyleaflet import Map, Marker, MarkerCluster, GeoJSON\n",
    "import geopandas"
   ]
  },
  {
   "cell_type": "markdown",
   "metadata": {},
   "source": [
    "Load cities data"
   ]
  },
  {
   "cell_type": "code",
   "execution_count": null,
   "metadata": {},
   "outputs": [],
   "source": [
    "cities = geopandas.read_file(\"zip://./geopandas_cities.zip\")"
   ]
  },
  {
   "cell_type": "markdown",
   "metadata": {},
   "source": [
    "Add a marker by position for each point in an input dataset.\n",
    "\n",
    "Performance note: this will create a Python widget for each Marker, which can cause poor performance with large numbers of markers."
   ]
  },
  {
   "cell_type": "code",
   "execution_count": 2,
   "metadata": {},
   "outputs": [
    {
     "data": {
      "application/vnd.jupyter.widget-view+json": {
       "model_id": "c607461b6b4341d7aceb426a951750e8",
       "version_major": 2,
       "version_minor": 0
      },
      "text/plain": [
       "Map(center=[42.5, -41.6], controls=(ZoomControl(options=['position', 'zoom_in_text', 'zoom_in_title', 'zoom_ou…"
      ]
     },
     "execution_count": 2,
     "metadata": {},
     "output_type": "execute_result"
    }
   ],
   "source": [
    "\n",
    "m = Map(center=(42.5, -41.6), zoom=2)\n",
    "m.add(\n",
    "    MarkerCluster(\n",
    "        markers=[\n",
    "            Marker(location=geolocation.coords[0][::-1])\n",
    "            for geolocation in cities.geometry\n",
    "        ],\n",
    "        disable_clustering_at_zoom=3,\n",
    "        max_cluster_radius=100,\n",
    "    )\n",
    ")\n",
    "m"
   ]
  },
  {
   "cell_type": "markdown",
   "metadata": {},
   "source": [
    "Create a MarkerCluster from a GeoJson layer of points. \n",
    "\n",
    "Performance note: Since this will only create a single GeoJson layer widget instead of one widget-per-point, the performance will be better than the previous example."
   ]
  },
  {
   "cell_type": "code",
   "execution_count": 33,
   "metadata": {},
   "outputs": [
    {
     "data": {
      "application/vnd.jupyter.widget-view+json": {
       "model_id": "0eeb2641a0234d78af4cbd9742350ec0",
       "version_major": 2,
       "version_minor": 0
      },
      "text/plain": [
       "Map(center=[42.5, -41.6], controls=(ZoomControl(options=['position', 'zoom_in_text', 'zoom_in_title', 'zoom_ou…"
      ]
     },
     "execution_count": 33,
     "metadata": {},
     "output_type": "execute_result"
    }
   ],
   "source": [
    "g = GeoJSON(data=cities.__geo_interface__)\n",
    "\n",
    "mc = MarkerCluster(\n",
    "        markers=[g],\n",
    "        disable_clustering_at_zoom=3,\n",
    "        max_cluster_radius=100,\n",
    "    )\n",
    "m = Map(center=(42.5, -41.6), zoom=2)\n",
    "m.add(mc)\n",
    "m"
   ]
  },
  {
   "cell_type": "markdown",
   "metadata": {},
   "source": [
    "MarkerCluster data can be updated after creation by changing the list of markers of the widget."
   ]
  },
  {
   "cell_type": "code",
   "execution_count": 34,
   "metadata": {},
   "outputs": [],
   "source": [
    "mc.markers = [ GeoJSON(data=cities.iloc[:10].__geo_interface__)]"
   ]
  },
  {
   "cell_type": "code",
   "execution_count": null,
   "metadata": {},
   "outputs": [],
   "source": []
  }
 ],
 "metadata": {
  "kernelspec": {
   "display_name": "Python 3 (ipykernel)",
   "language": "python",
   "name": "python3"
  },
  "language_info": {
   "codemirror_mode": {
    "name": "ipython",
    "version": 3
   },
   "file_extension": ".py",
   "mimetype": "text/x-python",
   "name": "python",
   "nbconvert_exporter": "python",
   "pygments_lexer": "ipython3",
   "version": "3.11.12"
  }
 },
 "nbformat": 4,
 "nbformat_minor": 4
}
