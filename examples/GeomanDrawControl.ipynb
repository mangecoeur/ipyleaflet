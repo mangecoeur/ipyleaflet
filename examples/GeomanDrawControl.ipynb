{
 "cells": [
  {
   "cell_type": "code",
   "execution_count": 1,
   "metadata": {
    "ExecuteTime": {
     "end_time": "2025-06-09T15:35:39.559258Z",
     "start_time": "2025-06-09T15:35:39.448345Z"
    }
   },
   "outputs": [],
   "source": [
    "import ipywidgets\n",
    "from ipyleaflet import (\n",
    "    Map,\n",
    "    Marker,\n",
    "    TileLayer,\n",
    "    ImageOverlay,\n",
    "    Polyline,\n",
    "    Polygon,\n",
    "    Rectangle,\n",
    "    Circle,\n",
    "    CircleMarker,\n",
    "    GeoJSON,\n",
    "    GeomanDrawControl,\n",
    ")\n",
    "\n",
    "from traitlets import link"
   ]
  },
  {
   "cell_type": "code",
   "execution_count": 2,
   "metadata": {
    "ExecuteTime": {
     "end_time": "2025-05-15T18:21:31.116235Z",
     "start_time": "2025-05-15T18:21:31.114028Z"
    }
   },
   "outputs": [],
   "source": [
    "import json\n",
    "\n",
    "with open(\"simple.geo.json\") as f:\n",
    "    data = json.load(f)"
   ]
  },
  {
   "cell_type": "code",
   "execution_count": 3,
   "metadata": {},
   "outputs": [],
   "source": [
    "for i, f in enumerate(data[\"features\"]):\n",
    "    f[\"id\"] = i"
   ]
  },
  {
   "cell_type": "code",
   "execution_count": 4,
   "metadata": {
    "ExecuteTime": {
     "end_time": "2025-05-15T18:21:31.197905Z",
     "start_time": "2025-05-15T18:21:31.195304Z"
    }
   },
   "outputs": [],
   "source": [
    "d1 = data.copy()\n",
    "d2 = data.copy()\n",
    "\n",
    "d1[\"features\"] = d1[\"features\"][:1]\n",
    "d2[\"features\"] = d2[\"features\"][1:]\n"
   ]
  },
  {
   "cell_type": "code",
   "execution_count": 5,
   "metadata": {
    "ExecuteTime": {
     "end_time": "2025-05-15T18:21:36.974937Z",
     "start_time": "2025-05-15T18:21:36.966638Z"
    }
   },
   "outputs": [
    {
     "data": {
      "application/vnd.jupyter.widget-view+json": {
       "model_id": "9588cceff70e4bc4a743c50bc7ff6a12",
       "version_major": 2,
       "version_minor": 0
      },
      "text/plain": [
       "Map(center=[46.475212657477016, 6.3198722284199675], controls=(ZoomControl(options=['position', 'zoom_in_text'…"
      ]
     },
     "execution_count": 5,
     "metadata": {},
     "output_type": "execute_result"
    }
   ],
   "source": [
    "center = [46.475212657477016, 6.3198722284199675]\n",
    "zoom = 9\n",
    "m = Map(center=center, zoom=zoom, layout=dict(height=\"600px\"))\n",
    "\n",
    "g1 = GeoJSON(data=d1, pm_ignore=True, snap_ignore=True,     \n",
    "            style={\n",
    "        'opacity': 1, 'dashArray': '9', 'fillOpacity': 0.1, 'weight': 1\n",
    "    },\n",
    "           )\n",
    "\n",
    "g2 = GeoJSON(data=d2, pm_ignore=True, snap_ignore=False)\n",
    "m.add(g1)\n",
    "m.add(g2)\n",
    "\n",
    "draw_data = data[\"features\"][0]\n",
    "draw_data[\"properties\"][\"type\"] = \"circlemarker\"\n",
    "dc = GeomanDrawControl(\n",
    "    marker={},\n",
    "    circlemarker={},\n",
    "    polygon={},\n",
    "    data=[draw_data],\n",
    "    # hover_style={\"color\": \"red\", \"dashArray\": \"0\", \"fillOpacity\": 1, \"weight\": 8.0},\n",
    "    limit_markers_to_count=5,\n",
    "    continuous_update=False,\n",
    "    custom_controls=[{\n",
    "        \"name\": \"save\",\n",
    "        \"title\": \"Save\",\n",
    "        \"className\": \"control-icon leaflet-pm-icon-delete\",\n",
    "        \"event\": \"save\",\n",
    "        \"block\": \"custom\"\n",
    "    }]\n",
    ")\n",
    "\n",
    "def handle_draw(target, action, geo_json):\n",
    "    print(action)\n",
    "    print(geo_json)\n",
    "\n",
    "def on_value_change(change):\n",
    "    print(\"DATA CHANGE\")\n",
    "    print(change)\n",
    "\n",
    "def on_custom_button(*args, **kwargs):\n",
    "    print(args)\n",
    "    print(kwargs)\n",
    "    dc.sync_data()\n",
    "\n",
    "dc.observe(on_value_change, names='data')\n",
    "dc.on_draw(handle_draw)\n",
    "\n",
    "dc.on_click_custom_control(on_custom_button)\n",
    "m.add(dc)\n",
    "m"
   ]
  },
  {
   "cell_type": "code",
   "execution_count": 6,
   "metadata": {},
   "outputs": [],
   "source": [
    "# Explicit data sync\n",
    "dc.sync_data()"
   ]
  },
  {
   "cell_type": "code",
   "execution_count": 7,
   "metadata": {},
   "outputs": [
    {
     "data": {
      "application/javascript": [
       "\n",
       "                    window.jupyter_python_executable = '/opt/homebrew/Cellar/python@3.12/3.12.10/Frameworks/Python.framework/Versions/3.12/Resources/Python.app/Contents/MacOS/Python';\n",
       "                    window.jupyter_widget_checks_silent = true;\n",
       "                    window.jupyter_widget_checks_libraries = [{\"python\": \"ipyvuetify\", \"classic\": \"jupyter-vuetify/extension\", \"lab\": \"jupyter-vuetify\"}, {\"python\": \"ipyvue\", \"classic\": \"jupyter-vue/extension\", \"lab\": \"jupyter-vue\"}];\n",
       "                    "
      ],
      "text/plain": [
       "<IPython.core.display.Javascript object>"
      ]
     },
     "metadata": {},
     "output_type": "display_data"
    },
    {
     "data": {
      "text/html": [
       "<div class=\"jupyter-widget-checks-container\">\n",
       "    <script>\n",
       "        (function () {\n",
       "            console.log(\"Checking for jupyter-widgets extensions\")\n",
       "            const inLab = window._JUPYTERLAB !== undefined;\n",
       "            const silent = jupyter_widget_checks_silent;\n",
       "            const containers = document.getElementsByClassName('jupyter-widget-checks-container');\n",
       "            const rootEl = containers[containers.length - 1];\n",
       "            const libraries = window.jupyter_widget_checks_libraries;\n",
       "\n",
       "            function getBaseUrl() {\n",
       "                const labConfigData = document.getElementById(\"jupyter-config-data\");\n",
       "                if (labConfigData) {\n",
       "                    /* lab and Voila */\n",
       "                    return JSON.parse(labConfigData.textContent).baseUrl;\n",
       "                }\n",
       "                let base = document.body.dataset.baseUrl || document.baseURI;\n",
       "                return base;\n",
       "            }\n",
       "\n",
       "            function checkLibrary(extensions, library) {\n",
       "                let installed = false;\n",
       "                let ok = true;\n",
       "                if (inLab) {\n",
       "                    installed = _JUPYTERLAB[library.lab] !== undefined\n",
       "                } else {\n",
       "                    installed = extensions[library.classic] !== undefined;\n",
       "                    let enabled = extensions[library.classic] === true;\n",
       "                }\n",
       "                const div = document.createElement(\"div\")\n",
       "                if (installed) {\n",
       "                    if (!silent) {\n",
       "                        div.innerHTML = `Extension ${library.python} is installed at the server ✅`\n",
       "                        rootEl.appendChild(div)\n",
       "                    }\n",
       "                } else {\n",
       "                    div.innerHTML = `Extension ${library.python} is <b>NOT</b> installed at the server ❌.`\n",
       "                    rootEl.appendChild(div)\n",
       "                    ok = false;\n",
       "                }\n",
       "                return ok;\n",
       "            }\n",
       "\n",
       "            async function check() {\n",
       "                const url = `${getBaseUrl()}api/config/notebook`\n",
       "                const response = (await fetch(url));\n",
       "                const data = await response.json()\n",
       "                const extensions = data[\"load_extensions\"];\n",
       "                var ok = true;\n",
       "                let needsInstall = [];\n",
       "                libraries.forEach((library) => {\n",
       "                    if (!checkLibrary(extensions, library)) {\n",
       "                        ok = false;\n",
       "                        needsInstall.push(library.python)\n",
       "                        console.log(\"Needs install\", library.python)\n",
       "                    }\n",
       "                })\n",
       "                console.log(ok, needsInstall)\n",
       "                if (!ok) {\n",
       "                    const div = document.createElement(\"div\")\n",
       "                    const div2 = document.createElement(\"div\")\n",
       "                    div.innerHTML = `Run <code>${jupyter_python_executable} -m pip install ${needsInstall.join(\" \")}</code>. Refresh the page after installation.`\n",
       "                    div2.innerHTML = `Visit <a href=\"https://solara.dev/documentation/getting_started/troubleshoot\" target=\"_blank\">https://solara/dev/documentation/getting_started/troubleshoot</a> for more information.`\n",
       "                    rootEl.appendChild(div)\n",
       "                    rootEl.appendChild(div2)\n",
       "                }\n",
       "            }\n",
       "            check()\n",
       "        })();\n",
       "    </script>\n",
       "</div>\n"
      ],
      "text/plain": [
       "<IPython.core.display.HTML object>"
      ]
     },
     "metadata": {},
     "output_type": "display_data"
    }
   ],
   "source": [
    "import io\n",
    "from collections.abc import Callable\n",
    "from typing import cast\n",
    "\n",
    "import ipyleaflet\n",
    "import ipywidgets\n",
    "import matplotlib as mpl\n",
    "import reacton.ipywidgets as w\n",
    "import solara\n",
    "from ipyleaflet import WidgetControl\n",
    "from matplotlib import pyplot as plt\n",
    "from traitlets import default, traitlets\n",
    "from ipyleaflet import basemaps"
   ]
  },
  {
   "cell_type": "code",
   "execution_count": 8,
   "metadata": {},
   "outputs": [],
   "source": [
    "\n",
    "@solara.component\n",
    "def MyGeomanDrawControl(\n",
    "    *,\n",
    "    on_draw=None,\n",
    "    data=None,\n",
    "    position=\"topright\",\n",
    "    current_mode=None,\n",
    "    polygon=None,\n",
    "    circle=None,\n",
    "    marker=None,\n",
    "    circlemarker=None,\n",
    "    rectangle=None,\n",
    "    polyline=None,\n",
    "    text=None,\n",
    "    edit=True,\n",
    "    remove=True,\n",
    "    drag=True,\n",
    "    cut=True,\n",
    "    rotate=True,\n",
    "    hide_controls=False,\n",
    "    limit_markers_to_count=-1,\n",
    "    continuous_updates=True,\n",
    "):\n",
    "    \"\"\"\n",
    "    Args:\n",
    "        on_draw:\n",
    "        data:\n",
    "        position:\n",
    "        current_mode:\n",
    "        polygon:\n",
    "        circle:\n",
    "        marker:\n",
    "        circlemarker:\n",
    "        rectangle:\n",
    "        polyline:\n",
    "        text:\n",
    "        edit:\n",
    "        remove:\n",
    "        drag:\n",
    "        cut:\n",
    "        rotate:\n",
    "        hide_controls:\n",
    "        limit_markers_to_count:\n",
    "\n",
    "    Returns:\n",
    "\n",
    "    \"\"\"\n",
    "    if polyline is None:\n",
    "        polyline = {}\n",
    "    if rectangle is None:\n",
    "        rectangle = {}\n",
    "    if circlemarker is None:\n",
    "        circlemarker = {}\n",
    "    if marker is None:\n",
    "        marker = {}\n",
    "    if circle is None:\n",
    "        circle = {}\n",
    "    if polygon is None:\n",
    "        polygon = {}\n",
    "    if text is None:\n",
    "        text = {}\n",
    "    if data is None:\n",
    "        data = []\n",
    "\n",
    "    draw_control = ipyleaflet.GeomanDrawControl.element(\n",
    "        data=data,\n",
    "        # explicitly set these to empty dict to disable them\n",
    "        circle=circle,\n",
    "        marker=marker,\n",
    "        circlemarker=circlemarker,\n",
    "        polygon=polygon,\n",
    "        rectangle=rectangle,\n",
    "        polyline=polyline,\n",
    "        text=text,\n",
    "        position=position,\n",
    "        edit=edit,\n",
    "        remove=remove,\n",
    "        current_mode=current_mode,\n",
    "        drag=drag,\n",
    "        cut=cut,\n",
    "        rotate=rotate,\n",
    "        hide_controls=hide_controls,\n",
    "        limit_markers_to_count=limit_markers_to_count,\n",
    "        continuous_updates=continuous_updates,\n",
    "    )\n",
    "\n",
    "    def add_event_handler():\n",
    "        if on_draw is None:\n",
    "            return\n",
    "\n",
    "        widget = cast(ipyleaflet.GeomanDrawControl, solara.get_widget(draw_control))\n",
    "        if isinstance(on_draw, Callable):\n",
    "            widget.on_draw(on_draw)\n",
    "        else:\n",
    "            for callback in on_draw:\n",
    "                widget.on_draw(callback)\n",
    "\n",
    "        # def log_data(change):\n",
    "        #     log.warning(\"data receved from geoman draw control: \", change=change)\n",
    "        #\n",
    "        # widget.observe(log_data, names=[\"data\"])\n",
    "\n",
    "        def cleanup():\n",
    "            widget.on_draw(on_draw, remove=True)\n",
    "\n",
    "        return cleanup\n",
    "\n",
    "    solara.use_effect(add_event_handler, dependencies=[])\n",
    "\n",
    "    return draw_control\n"
   ]
  },
  {
   "cell_type": "code",
   "execution_count": 9,
   "metadata": {},
   "outputs": [],
   "source": [
    "@solara.component\n",
    "def MyMap(\n",
    "    *,\n",
    "    layers,\n",
    "    controls=(),\n",
    "    center=(5,10),\n",
    "    zoom=10,\n",
    "    scroll_wheel_zoom=True,\n",
    "    layout=None,\n",
    "    on_zoom=None,\n",
    "    on_center=None,\n",
    "    zoom_control=True,\n",
    "    **kwargs,\n",
    "):\n",
    "    return ipyleaflet.Map.element(\n",
    "        layout=layout or w.Layout(width=\"100%\", height=\"400px\", margin=\"0\"),\n",
    "        layers=layers,\n",
    "        center=center,\n",
    "        on_center=on_center,\n",
    "        zoom=zoom,\n",
    "        on_zoom=on_zoom,\n",
    "        controls=controls,\n",
    "        zoom_control=zoom_control,\n",
    "        scroll_wheel_zoom=scroll_wheel_zoom,\n",
    "        **kwargs,\n",
    "    ).meta(ref=\"map-widget\")"
   ]
  },
  {
   "cell_type": "code",
   "execution_count": 13,
   "metadata": {},
   "outputs": [],
   "source": []
  },
  {
   "cell_type": "code",
   "execution_count": 20,
   "metadata": {},
   "outputs": [
    {
     "data": {
      "application/vnd.jupyter.widget-view+json": {
       "model_id": "a1014c46bc70413aa87fca42685bc048",
       "version_major": 2,
       "version_minor": 0
      },
      "text/html": [
       "Cannot show widget. You probably want to rerun the code cell above (<i>Click in the code cell, and press Shift+Enter <kbd>⇧</kbd>+<kbd>↩</kbd></i>)."
      ],
      "text/plain": [
       "Cannot show ipywidgets in text"
      ]
     },
     "metadata": {},
     "output_type": "display_data"
    }
   ],
   "source": [
    "controls = [MyGeomanDrawControl(\n",
    "    position=\"topleft\",\n",
    "    marker={},\n",
    "    circlemarker={},\n",
    "    polygon={\"pathOptions\": {\"stroke\": True, \"color\": \"#3388ff\", \"weight\": 3}},\n",
    "                              )]\n",
    "\n",
    "MyMap(\n",
    "    layers=[ipyleaflet.TileLayer.element(\n",
    "        url=basemaps.OpenStreetMap.Mapnik.url)\n",
    "           ],\n",
    "    controls=controls,\n",
    ")"
   ]
  },
  {
   "cell_type": "code",
   "execution_count": null,
   "metadata": {},
   "outputs": [],
   "source": []
  }
 ],
 "metadata": {
  "kernelspec": {
   "display_name": "Python 3 (ipykernel)",
   "language": "python",
   "name": "python3"
  },
  "language_info": {
   "codemirror_mode": {
    "name": "ipython",
    "version": 3
   },
   "file_extension": ".py",
   "mimetype": "text/x-python",
   "name": "python",
   "nbconvert_exporter": "python",
   "pygments_lexer": "ipython3",
   "version": "3.11.12"
  }
 },
 "nbformat": 4,
 "nbformat_minor": 4
}
