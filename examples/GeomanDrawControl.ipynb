{
 "cells": [
  {
   "cell_type": "code",
   "execution_count": 1,
   "metadata": {
    "ExecuteTime": {
     "end_time": "2025-07-06T09:48:46.921026Z",
     "start_time": "2025-07-06T09:48:46.813101Z"
    }
   },
   "outputs": [],
   "source": [
    "from ipyleaflet import (\n",
    "    Map,\n",
    "    Marker,\n",
    "    TileLayer,\n",
    "    ImageOverlay,\n",
    "    Polyline,\n",
    "    Polygon,\n",
    "    Rectangle,\n",
    "    Circle,\n",
    "    CircleMarker,\n",
    "    GeoJSON,\n",
    "    GeomanDrawControl,\n",
    ")\n",
    "\n",
    "from traitlets import link"
   ]
  },
  {
   "cell_type": "code",
   "execution_count": 2,
   "metadata": {
    "ExecuteTime": {
     "end_time": "2025-07-06T09:51:30.248134Z",
     "start_time": "2025-07-06T09:51:30.244928Z"
    }
   },
   "outputs": [],
   "source": [
    "import json\n",
    "\n",
    "with open(\"simple.geo.json\") as f:\n",
    "    data = json.load(f)"
   ]
  },
  {
   "cell_type": "code",
   "execution_count": 3,
   "metadata": {
    "ExecuteTime": {
     "end_time": "2025-07-06T09:51:32.080782Z",
     "start_time": "2025-07-06T09:51:32.076569Z"
    }
   },
   "outputs": [],
   "source": [
    "d1 = data.copy()\n",
    "d2 = data.copy()\n",
    "\n",
    "d1[\"features\"] = d1[\"features\"][:1]\n",
    "d2[\"features\"] = d2[\"features\"][1:]\n"
   ]
  },
  {
   "cell_type": "code",
   "execution_count": 4,
   "metadata": {
    "ExecuteTime": {
     "end_time": "2025-07-06T09:51:33.096376Z",
     "start_time": "2025-07-06T09:51:33.082174Z"
    }
   },
   "outputs": [
    {
     "data": {
      "application/vnd.jupyter.widget-view+json": {
       "model_id": "1beaea18065a43f581a6847ce3459f34",
       "version_major": 2,
       "version_minor": 0
      },
      "text/plain": [
       "Map(center=[46.475212657477016, 6.3198722284199675], controls=(ZoomControl(options=['position', 'zoom_in_text'…"
      ]
     },
     "execution_count": 4,
     "metadata": {},
     "output_type": "execute_result"
    }
   ],
   "source": [
    "center = [46.475212657477016, 6.3198722284199675]\n",
    "zoom = 9\n",
    "m = Map(center=center, zoom=zoom, layout=dict(height=\"600px\"))\n",
    "\n",
    "g1 = GeoJSON(data=d1, pm_ignore=True, snap_ignore=True,     \n",
    "            style={\n",
    "        'opacity': 1, 'dashArray': '9', 'fillOpacity': 0.1, 'weight': 1\n",
    "    },\n",
    "           )\n",
    "\n",
    "g2 = GeoJSON(data=d2, pm_ignore=True, snap_ignore=False)\n",
    "m.add(g1)\n",
    "m.add(g2)\n",
    "\n",
    "draw_data = data[\"features\"][1]\n",
    "draw_data[\"properties\"][\"type\"] = \"circlemarker\"\n",
    "dc = GeomanDrawControl(\n",
    "    marker={},\n",
    "    circlemarker={},\n",
    "    polygon={},\n",
    "    data=[draw_data]\n",
    ")\n",
    "\n",
    "def handle_draw(target, action, geo_json):\n",
    "    print(action)\n",
    "    print(geo_json)\n",
    "\n",
    "\n",
    "dc.on_draw(handle_draw)\n",
    "m.add(dc)\n",
    "m"
   ]
  },
  {
   "cell_type": "code",
   "execution_count": 10,
   "metadata": {
    "ExecuteTime": {
     "end_time": "2025-07-06T09:51:36.178718Z",
     "start_time": "2025-07-06T09:51:36.172846Z"
    }
   },
   "outputs": [
    {
     "data": {
      "application/vnd.jupyter.widget-view+json": {
       "model_id": "f101a285029c43e2a21a515a2d412933",
       "version_major": 2,
       "version_minor": 0
      },
      "text/plain": [
       "Map(center=[46.475212657477016, 6.3198722284199675], controls=(ZoomControl(options=['position', 'zoom_in_text'…"
      ]
     },
     "execution_count": 10,
     "metadata": {},
     "output_type": "execute_result"
    }
   ],
   "source": [
    "# Modifying draw options will update the toolbar\n",
    "dc.marker={\"markerStyle\": {\"color\": \"#FF0000\"}}\n",
    "dc.rectangle={\"pathOptions\": {\"color\": \"#FF0000\"}}\n",
    "dc.circlemarker={\"pathOptions\": {\"color\": \"#FF0000\"}}\n",
    "m"
   ]
  },
  {
   "cell_type": "code",
   "execution_count": null,
   "metadata": {},
   "outputs": [],
   "source": [
    "@solara.component\n",
    "def EditMap(edit):\n",
    "    center = [46.475212657477016, 6.3198722284199675]\n",
    "    zoom = 9\n",
    "\n",
    "    # edit, set_edit = solara.use_state(True)\n",
    "    # edit = solara.reactive(True)\n",
    "\n",
    "    g1 = GeoJSON.element(\n",
    "        data=d1, pm_ignore=True, snap_ignore=True,\n",
    "        style={\n",
    "            'opacity': 1, 'dashArray': '9', 'fillOpacity': 0.1, 'weight': 1, 'color': '#666666', 'fillColor': '#666666'\n",
    "        },\n",
    "    )\n",
    "\n",
    "    g2 = GeoJSON.element(\n",
    "        data=d2, pm_ignore=True, snap_ignore=True,\n",
    "        style={\n",
    "            'opacity': 1, 'dashArray': '9', 'fillOpacity': 0.1, 'weight': 1, 'color': '#666666', 'fillColor': '#666666'\n",
    "        }\n",
    "    )\n",
    "\n",
    "    dc = GeomanDrawControlComponent(\n",
    "        marker={\"shapeOptions\": {\"color\": \"#FF0000\"}},\n",
    "        # rectangle={\"shapeOptions\": {\"color\": \"#FF0000\"}},\n",
    "        rectangle={},\n",
    "        # circle={\"shapeOptions\": {\"color\": \"#FF0000\"}},\n",
    "        circle={},\n",
    "        circlemarker={\"shapeOptions\": {\"color\": \"#FF0000\"}},\n",
    "        data=[data[\"features\"][1]],\n",
    "        edit=edit.value,\n",
    "        on_draw=handle_draw\n",
    "    )\n",
    "\n",
    "    layers = [\n",
    "        g1, g2\n",
    "    ]\n",
    "\n",
    "    controls = [dc]\n",
    "\n",
    "    ipyleaflet.Map.element(\n",
    "                layout=dict(height=\"400px\"),\n",
    "                layers=layers,\n",
    "                center=center,\n",
    "                zoom=zoom,\n",
    "                controls=controls,\n",
    "                # zoom_control=False,\n",
    "                scroll_wheel_zoom=True,\n",
    "            ).meta(ref=\"map-widget\")"
   ]
  }
 ],
 "metadata": {
  "kernelspec": {
   "display_name": "Python 3 (ipykernel)",
   "language": "python",
   "name": "python3"
  },
  "language_info": {
   "codemirror_mode": {
    "name": "ipython",
    "version": 3
   },
   "file_extension": ".py",
   "mimetype": "text/x-python",
   "name": "python",
   "nbconvert_exporter": "python",
   "pygments_lexer": "ipython3",
   "version": "3.11.12"
  }
 },
 "nbformat": 4,
 "nbformat_minor": 4
}
