{
 "cells": [
  {
   "cell_type": "code",
   "execution_count": 2,
   "metadata": {
    "ExecuteTime": {
     "end_time": "2025-05-15T18:21:31.105777Z",
     "start_time": "2025-05-15T18:21:30.983856Z"
    }
   },
   "outputs": [],
   "source": [
    "from ipyleaflet import (\n",
    "    Map,\n",
    "    Marker,\n",
    "    TileLayer,\n",
    "    ImageOverlay,\n",
    "    Polyline,\n",
    "    Polygon,\n",
    "    Rectangle,\n",
    "    Circle,\n",
    "    CircleMarker,\n",
    "    GeoJSON,\n",
    "    GeomanDrawControl,\n",
    ")\n",
    "\n",
    "from traitlets import link"
   ]
  },
  {
   "cell_type": "code",
   "execution_count": 3,
   "metadata": {
    "ExecuteTime": {
     "end_time": "2025-05-15T18:21:31.116235Z",
     "start_time": "2025-05-15T18:21:31.114028Z"
    }
   },
   "outputs": [],
   "source": [
    "import json\n",
    "\n",
    "with open(\"simple.geo.json\") as f:\n",
    "    data = json.load(f)"
   ]
  },
  {
   "cell_type": "code",
   "execution_count": 4,
   "metadata": {
    "ExecuteTime": {
     "end_time": "2025-05-15T18:21:31.197905Z",
     "start_time": "2025-05-15T18:21:31.195304Z"
    }
   },
   "outputs": [],
   "source": [
    "d1 = data.copy()\n",
    "d2 = data.copy()\n",
    "\n",
    "d1[\"features\"] = d1[\"features\"][:1]\n",
    "d2[\"features\"] = d2[\"features\"][1:]\n"
   ]
  },
  {
   "cell_type": "code",
   "execution_count": 5,
   "metadata": {
    "ExecuteTime": {
     "end_time": "2025-05-15T18:21:36.974937Z",
     "start_time": "2025-05-15T18:21:36.966638Z"
    }
   },
   "outputs": [
    {
     "data": {
      "application/vnd.jupyter.widget-view+json": {
       "model_id": "1aa73e89a4fd4920b5bab0ea5dda5e5d",
       "version_major": 2,
       "version_minor": 0
      },
      "text/plain": [
       "Map(center=[46.475212657477016, 6.3198722284199675], controls=(ZoomControl(options=['position', 'zoom_in_text'…"
      ]
     },
     "execution_count": 5,
     "metadata": {},
     "output_type": "execute_result"
    }
   ],
   "source": [
    "center = [46.475212657477016, 6.3198722284199675]\n",
    "zoom = 9\n",
    "m = Map(center=center, zoom=zoom, layout=dict(height=\"600px\"))\n",
    "\n",
    "g1 = GeoJSON(data=d1, pm_ignore=True, snap_ignore=True,     \n",
    "            style={\n",
    "        'opacity': 1, 'dashArray': '9', 'fillOpacity': 0.1, 'weight': 1\n",
    "    },\n",
    "           )\n",
    "\n",
    "g2 = GeoJSON(data=d2, pm_ignore=True, snap_ignore=False)\n",
    "# m.add(g1)\n",
    "# m.add(g2)\n",
    "\n",
    "draw_data = data[\"features\"][1]\n",
    "draw_data[\"properties\"][\"type\"] = \"circlemarker\"\n",
    "dc = GeomanDrawControl(\n",
    "    marker={\"markerStyle\": {\"color\": \"#FF0000\"}},\n",
    "    # rectangle={\"pathOptions\": {\"color\": \"#FF0000\"}},\n",
    "    circlemarker={\"pathOptions\": {\"color\": \"#FF0000\"}},\n",
    "    # circlemarker={},\n",
    "    data=[draw_data]\n",
    ")\n",
    "\n",
    "# TODO add testing of other controls to make sure we didn't break them.\n",
    "\n",
    "\n",
    "def handle_draw(target, action, geo_json):\n",
    "    print(action)\n",
    "    print(geo_json)\n",
    "\n",
    "\n",
    "dc.on_draw(handle_draw)\n",
    "m.add(dc)\n",
    "m"
   ]
  },
  {
   "cell_type": "code",
   "execution_count": 6,
   "metadata": {
    "ExecuteTime": {
     "end_time": "2025-05-15T18:21:55.953065Z",
     "start_time": "2025-05-15T18:21:55.538155Z"
    }
   },
   "outputs": [],
   "source": [
    "import solara\n",
    "import ipyleaflet\n",
    "from typing import cast, Callable"
   ]
  },
  {
   "cell_type": "code",
   "execution_count": 7,
   "metadata": {},
   "outputs": [],
   "source": [
    "\n",
    "@solara.component\n",
    "def GeomanDrawControlComponent(\n",
    "    *,\n",
    "    on_draw=None,\n",
    "    data=None,\n",
    "    position=\"topright\",\n",
    "    current_mode=None,\n",
    "    polygon=None,\n",
    "    circle=None,\n",
    "    marker=None,\n",
    "    circlemarker=None,\n",
    "    rectangle=None,\n",
    "    polyline=None,\n",
    "    text=None,\n",
    "    edit=True,\n",
    "    remove=True,\n",
    "    drag=True,\n",
    "    cut=True,\n",
    "    rotate=True,\n",
    "    hide_controls=False,\n",
    "):\n",
    "    if polyline is None:\n",
    "        polyline = {}\n",
    "    if rectangle is None:\n",
    "        rectangle = {}\n",
    "    if circlemarker is None:\n",
    "        circlemarker = {}\n",
    "    if marker is None:\n",
    "        marker = {}\n",
    "    if circle is None:\n",
    "        circle = {}\n",
    "    if polygon is None:\n",
    "        polygon = {}\n",
    "    if text is None:\n",
    "        text = {}\n",
    "    if data is None:\n",
    "        data = []\n",
    "\n",
    "    draw_control = ipyleaflet.GeomanDrawControl.element(\n",
    "        data=data,\n",
    "        # explicitly set these to empty dict to disable them\n",
    "        circle=circle,\n",
    "        marker=marker,\n",
    "        circlemarker=circlemarker,\n",
    "        polygon=polygon,\n",
    "        rectangle=rectangle,\n",
    "        polyline=polyline,\n",
    "        text=text,\n",
    "        position=position,\n",
    "        edit=edit,\n",
    "        remove=remove,\n",
    "        current_mode=current_mode,\n",
    "        drag=drag,\n",
    "        cut=cut,\n",
    "        rotate=rotate,\n",
    "        hide_controls=hide_controls,\n",
    "    )\n",
    "\n",
    "    def add_draw_handler():\n",
    "        if on_draw is None:\n",
    "            return\n",
    "        widget = cast(ipyleaflet.GeomanDrawControl, solara.get_widget(draw_control))\n",
    "        if isinstance(on_draw, Callable):\n",
    "            widget.on_draw(on_draw)\n",
    "        else:\n",
    "            for callback in on_draw:\n",
    "                widget.on_draw(callback)\n",
    "\n",
    "        def cleanup():\n",
    "            widget.on_draw(on_draw, remove=True)\n",
    "\n",
    "        return cleanup\n",
    "\n",
    "    solara.use_effect(add_draw_handler, dependencies=[])\n",
    "\n",
    "    return draw_control"
   ]
  },
  {
   "cell_type": "code",
   "execution_count": 8,
   "metadata": {},
   "outputs": [
    {
     "data": {
      "text/plain": [
       "{'type': 'Feature',\n",
       " 'properties': {'type': 'circlemarker'},\n",
       " 'geometry': {'coordinates': [6.146144956875389, 46.4506138274553],\n",
       "  'type': 'Point'}}"
      ]
     },
     "execution_count": 8,
     "metadata": {},
     "output_type": "execute_result"
    }
   ],
   "source": [
    "data[\"features\"][1]"
   ]
  },
  {
   "cell_type": "code",
   "execution_count": 9,
   "metadata": {},
   "outputs": [],
   "source": [
    "@solara.component\n",
    "def EditMap(edit):\n",
    "    center = [46.475212657477016, 6.3198722284199675]\n",
    "    zoom = 9\n",
    "    \n",
    "    # edit, set_edit = solara.use_state(True)\n",
    "    # edit = solara.reactive(True)\n",
    "    \n",
    "    g1 = GeoJSON.element(\n",
    "        data=d1, pm_ignore=True, snap_ignore=True,\n",
    "        style={\n",
    "            'opacity': 1, 'dashArray': '9', 'fillOpacity': 0.1, 'weight': 1, 'color': '#666666', 'fillColor': '#666666'\n",
    "        },\n",
    "    )\n",
    "    \n",
    "    g2 = GeoJSON.element(\n",
    "        data=d2, pm_ignore=True, snap_ignore=True,\n",
    "        style={\n",
    "            'opacity': 1, 'dashArray': '9', 'fillOpacity': 0.1, 'weight': 1, 'color': '#666666', 'fillColor': '#666666'\n",
    "        }\n",
    "    )\n",
    "    \n",
    "    dc = GeomanDrawControlComponent(\n",
    "        marker={\"shapeOptions\": {\"color\": \"#FF0000\"}},\n",
    "        # rectangle={\"shapeOptions\": {\"color\": \"#FF0000\"}},\n",
    "        rectangle={},\n",
    "        # circle={\"shapeOptions\": {\"color\": \"#FF0000\"}},\n",
    "        circle={},\n",
    "        circlemarker={\"shapeOptions\": {\"color\": \"#FF0000\"}},\n",
    "        data=[data[\"features\"][1]],\n",
    "        edit=edit.value,\n",
    "        on_draw=handle_draw\n",
    "    )\n",
    "    \n",
    "    layers = [\n",
    "        g1, g2\n",
    "    ]\n",
    "    \n",
    "    controls = [dc]\n",
    "    \n",
    "    ipyleaflet.Map.element(\n",
    "                layout=dict(height=\"400px\"),\n",
    "                layers=layers,\n",
    "                center=center,\n",
    "                zoom=zoom,\n",
    "                controls=controls,\n",
    "                # zoom_control=False,\n",
    "                scroll_wheel_zoom=True,\n",
    "            ).meta(ref=\"map-widget\")"
   ]
  },
  {
   "cell_type": "code",
   "execution_count": 10,
   "metadata": {},
   "outputs": [
    {
     "ename": "NameError",
     "evalue": "name 'edit' is not defined",
     "output_type": "error",
     "traceback": [
      "\u001b[31m---------------------------------------------------------------------------\u001b[39m",
      "\u001b[31mNameError\u001b[39m                                 Traceback (most recent call last)",
      "\u001b[36mCell\u001b[39m\u001b[36m \u001b[39m\u001b[32mIn[10]\u001b[39m\u001b[32m, line 1\u001b[39m\n\u001b[32m----> \u001b[39m\u001b[32m1\u001b[39m edit.value = \u001b[38;5;129;01mnot\u001b[39;00m \u001b[43medit\u001b[49m.value\n",
      "\u001b[31mNameError\u001b[39m: name 'edit' is not defined"
     ]
    }
   ],
   "source": [
    "edit.value = not edit.value"
   ]
  },
  {
   "cell_type": "code",
   "execution_count": 11,
   "metadata": {},
   "outputs": [
    {
     "data": {
      "application/vnd.jupyter.widget-view+json": {
       "model_id": "b91ef88288cf4a20a79ef9841698962a",
       "version_major": 2,
       "version_minor": 0
      },
      "text/html": [
       "Cannot show widget. You probably want to rerun the code cell above (<i>Click in the code cell, and press Shift+Enter <kbd>⇧</kbd>+<kbd>↩</kbd></i>)."
      ],
      "text/plain": [
       "Cannot show ipywidgets in text"
      ]
     },
     "metadata": {},
     "output_type": "display_data"
    }
   ],
   "source": [
    "edit = solara.reactive(True)\n",
    "EditMap(edit)"
   ]
  },
  {
   "cell_type": "code",
   "execution_count": null,
   "metadata": {},
   "outputs": [],
   "source": []
  }
 ],
 "metadata": {
  "kernelspec": {
   "display_name": "Python 3 (ipykernel)",
   "language": "python",
   "name": "python3"
  },
  "language_info": {
   "codemirror_mode": {
    "name": "ipython",
    "version": 3
   },
   "file_extension": ".py",
   "mimetype": "text/x-python",
   "name": "python",
   "nbconvert_exporter": "python",
   "pygments_lexer": "ipython3",
   "version": "3.11.12"
  }
 },
 "nbformat": 4,
 "nbformat_minor": 4
}
